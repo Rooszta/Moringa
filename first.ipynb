{
 "cells": [
  {
   "cell_type": "code",
   "execution_count": 2,
   "metadata": {},
   "outputs": [
    {
     "name": "stdout",
     "output_type": "stream",
     "text": [
      "Hello world! Hello sun!!! Hello sky!!!!\n",
      "Hello world!\n",
      "Hello sun!\n",
      "Hello sky!\n"
     ]
    }
   ],
   "source": [
    "print(\"Hello world!\", end=\" \")\n",
    "print(\"Hello sun!\", end=\"!! \")\n",
    "print(\"Hello sky!\", end=\"!!!\\n\")\n",
    "\n",
    "print(\"Hello world!\")\n",
    "print(\"Hello sun!\")\n",
    "print(\"Hello sky!\")"
   ]
  }
 ],
 "metadata": {
  "kernelspec": {
   "display_name": "learn-env",
   "language": "python",
   "name": "python3"
  },
  "language_info": {
   "codemirror_mode": {
    "name": "ipython",
    "version": 3
   },
   "file_extension": ".py",
   "mimetype": "text/x-python",
   "name": "python",
   "nbconvert_exporter": "python",
   "pygments_lexer": "ipython3",
   "version": "3.8.5"
  }
 },
 "nbformat": 4,
 "nbformat_minor": 2
}
